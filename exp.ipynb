{
 "cells": [
  {
   "cell_type": "code",
   "execution_count": 180,
   "metadata": {},
   "outputs": [],
   "source": [
    "from torch_geometric.datasets import Planetoid"
   ]
  },
  {
   "cell_type": "code",
   "execution_count": 181,
   "metadata": {},
   "outputs": [],
   "source": [
    "dataset = Planetoid('dataset', 'CiteSeer', split='public')"
   ]
  },
  {
   "cell_type": "code",
   "execution_count": 182,
   "metadata": {},
   "outputs": [
    {
     "data": {
      "text/plain": [
       "1"
      ]
     },
     "execution_count": 182,
     "metadata": {},
     "output_type": "execute_result"
    }
   ],
   "source": [
    "len(dataset)"
   ]
  },
  {
   "cell_type": "code",
   "execution_count": 206,
   "metadata": {},
   "outputs": [],
   "source": [
    "dataset = Planetoid('dataset', 'Cora', split='public')\n"
   ]
  },
  {
   "cell_type": "code",
   "execution_count": 207,
   "metadata": {},
   "outputs": [],
   "source": [
    "data = dataset[0]"
   ]
  },
  {
   "cell_type": "code",
   "execution_count": 212,
   "metadata": {},
   "outputs": [
    {
     "data": {
      "text/plain": [
       "torch.Size([140, 1433])"
      ]
     },
     "execution_count": 212,
     "metadata": {},
     "output_type": "execute_result"
    }
   ],
   "source": [
    "data.x[data.train_mask].shape"
   ]
  },
  {
   "cell_type": "code",
   "execution_count": 196,
   "metadata": {},
   "outputs": [
    {
     "name": "stdout",
     "output_type": "stream",
     "text": [
      "[(0, 1, 0), (0, 2, 0), (0, 3, 0)]\n",
      "[0.6853554  0.65664876] [0.14483912 0.6247451 ]\n",
      "[0.6853554  0.65664876] [0.12032649 0.839218  ]\n",
      "[0.6853554  0.65664876] [0.0429733  0.84485835]\n"
     ]
    },
    {
     "data": {
      "image/png": "[encoded data removed]",
      "text/plain": [
       "<Figure size 640x480 with 1 Axes>"
      ]
     },
     "metadata": {},
     "output_type": "display_data"
    },
    {
     "name": "stdout",
     "output_type": "stream",
     "text": [
      "tensor([[-1.8807],\n",
      "        [-0.0456],\n",
      "        [-0.9089],\n",
      "        [-1.6107]])\n"
     ]
    }
   ],
   "source": [
    "\n",
    "import torch\n",
    "import numpy as np\n",
    "import networkx as nx\n",
    "\n",
    "from torch_geometric.utils import to_networkx\n",
    "\n",
    "from torch_geometric.data import Data\n",
    "import matplotlib.pyplot as plt\n",
    "\n",
    "def draw_data(data):\n",
    "    G = to_networkx(data, to_multi=True)\n",
    "    print(G.edges)\n",
    "    pos = nx.random_layout(G)\n",
    "    nx.draw_networkx_nodes(G, pos, node_color='r')\n",
    "    nx.draw_networkx_labels(G, pos)\n",
    "    ax = plt.gca()\n",
    "    for e in G.edges:\n",
    "        print(pos[e[0]], pos[e[1]])\n",
    "        ax.annotate(\"\",\n",
    "                    xy=pos[e[0]], xycoords='data',\n",
    "                    xytext=pos[e[1]], textcoords='data',\n",
    "                    arrowprops=dict(arrowstyle=\"<-\", color=\"0.5\",\n",
    "                                    shrinkA=10, shrinkB=10,\n",
    "                                    patchA=None, patchB=None,\n",
    "                                    connectionstyle=\"arc3,rad=rrr\".replace('rrr',str(0.3*e[2])\n",
    "                                    ),\n",
    "                                    ),\n",
    "                    )\n",
    "    plt.axis('off')\n",
    "    plt.show()\n",
    "    \n",
    "    \n",
    "data = Data()\n",
    "data.x = torch.randn((4, 1))\n",
    "data.edge_index = torch.tensor([\n",
    "    [0,1],\n",
    "    [0,2],\n",
    "    [0,3]\n",
    "]).t().contiguous()\n",
    "draw_data(data)\n",
    "print(data.x)"
   ]
  },
  {
   "cell_type": "code",
   "execution_count": 217,
   "metadata": {},
   "outputs": [
    {
     "name": "stdout",
     "output_type": "stream",
     "text": [
      "Data(x=[11, 1433], edge_index=[2, 12], y=[11], train_mask=[11], val_mask=[11], test_mask=[11], n_id=[11], e_id=[12], input_id=[2], batch_size=2)\n"
     ]
    },
    {
     "data": {
      "text/plain": [
       "EdgeIndex([[ 2,  3,  4,  5,  0,  6,  0,  7,  8,  9,  1, 10],\n",
       "           [ 0,  0,  1,  1,  2,  2,  3,  3,  4,  4,  5,  5]],\n",
       "          sparse_size=(11, 11), nnz=12, sort_order=col)"
      ]
     },
     "execution_count": 217,
     "metadata": {},
     "output_type": "execute_result"
    }
   ],
   "source": [
    "from torch_geometric.loader import NeighborLoader\n",
    "\n",
    "dl = NeighborLoader(\n",
    "    data, \n",
    "    [2, 2],\n",
    "    input_nodes=data.train_mask,\n",
    "    batch_size=2,\n",
    "    directed=True\n",
    ")\n",
    "\n",
    "for batch in dl:\n",
    "    print(batch)\n",
    "    break\n",
    "    \n",
    "batch.edge_index"
   ]
  },
  {
   "cell_type": "code",
   "execution_count": 218,
   "metadata": {},
   "outputs": [
    {
     "data": {
      "text/plain": [
       "tensor([0, 1])"
      ]
     },
     "execution_count": 218,
     "metadata": {},
     "output_type": "execute_result"
    }
   ],
   "source": [
    "batch.input_id"
   ]
  },
  {
   "cell_type": "code",
   "execution_count": 219,
   "metadata": {},
   "outputs": [
    {
     "data": {
      "text/plain": [
       "tensor([ True,  True, False, False,  True, False, False, False, False, False,\n",
       "        False])"
      ]
     },
     "execution_count": 219,
     "metadata": {},
     "output_type": "execute_result"
    }
   ],
   "source": [
    "batch.train_mask"
   ]
  },
  {
   "cell_type": "code",
   "execution_count": null,
   "metadata": {},
   "outputs": [],
   "source": []
  }
 ],
 "metadata": {
  "kernelspec": {
   "display_name": "multignn",
   "language": "python",
   "name": "python3"
  },
  "language_info": {
   "codemirror_mode": {
    "name": "ipython",
    "version": 3
   },
   "file_extension": ".py",
   "mimetype": "text/x-python",
   "name": "python",
   "nbconvert_exporter": "python",
   "pygments_lexer": "ipython3",
   "version": "3.10.14"
  }
 },
 "nbformat": 4,
 "nbformat_minor": 2
}
